{
 "cells": [
  {
   "cell_type": "markdown",
   "id": "9b7e512b-2584-41db-b377-05d9e9176309",
   "metadata": {},
   "source": [
    "# IMDb Dataset"
   ]
  },
  {
   "cell_type": "markdown",
   "id": "85420d69-9521-4f30-a59b-12fa019c019d",
   "metadata": {},
   "source": [
    "I am focusing on analyzing a set of datasets related to movie and TV show titles, which are available from IMDb. These datasets provide rich insights into various aspects of the entertainment industry, such as content trends, audience preferences, and key contributors. Below are the datasets I will be analyzing:\n",
    "\n",
    "#### title.basics.tsv.gz\n",
    "This dataset contains fundamental information about each title, such as its type (movie, TV series, etc.), genres, and release years. By analyzing this data, we can identify trends in the types of content and genres that have been popular over time. Additionally, we can create models to predict the popularity of certain genres based on historical data.\n",
    "\n",
    "#### title.ratings.tsv.gz\n",
    "The ratings dataset contains user ratings and vote counts for each title. This is essential for evaluating the success or popularity of different titles. By analyzing how ratings correlate with factors such as genre, director, and actors, we can uncover patterns in what types of content are more favorably received by audiences. This can provide insight into what makes certain movies or shows successful.\n",
    "\n",
    "#### title.crew.tsv.gz\n",
    "This dataset provides information about the directors and writers involved in each title. Analyzing this data can help us identify key contributors who have worked on successful titles and look for trends in directing and writing styles. It can also help us explore the impact of certain directors and writers on the success of a project.\n",
    "\n",
    "#### title.principals.tsv.gz\n",
    "This dataset contains information about the cast and crew of each title. By analyzing this data, we can assess the impact that well-known actors, directors, or writers have on a title’s success. Additionally, we can explore collaboration patterns across multiple projects and determine if certain combinations of cast and crew tend to produce more successful content.\n",
    "\n",
    "#### name.basics.tsv.gz\n",
    "This dataset provides detailed information about individuals involved in the entertainment industry, such as their birth and death years, professions, and the titles they are known for. We can use this data to explore the career trajectories of key figures in the industry and link specific individuals to successful projects, helping to understand their influence on the overall success of titles.\n",
    "\n",
    "These datasets will allow for an in-depth analysis of trends in the entertainment industry, including the popularity of different genres, the success of specific contributors, and how ratings correlate with other factors.\n"
   ]
  },
  {
   "cell_type": "markdown",
   "id": "69af7b95-6df1-4fd0-b255-c3799b9647ab",
   "metadata": {},
   "source": [
    "For more details, the datasets can be accessed at the following URL:\n",
    "## IMDb Datasets - https://developer.imdb.com/non-commercial-datasets/"
   ]
  }
 ],
 "metadata": {
  "kernelspec": {
   "display_name": "Python 3 (ipykernel)",
   "language": "python",
   "name": "python3"
  },
  "language_info": {
   "codemirror_mode": {
    "name": "ipython",
    "version": 3
   },
   "file_extension": ".py",
   "mimetype": "text/x-python",
   "name": "python",
   "nbconvert_exporter": "python",
   "pygments_lexer": "ipython3",
   "version": "3.9.6"
  }
 },
 "nbformat": 4,
 "nbformat_minor": 5
}
